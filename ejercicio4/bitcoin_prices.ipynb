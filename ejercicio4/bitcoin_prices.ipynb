{
 "cells": [
  {
   "cell_type": "code",
   "execution_count": 1,
   "metadata": {},
   "outputs": [],
   "source": [
    "bitcoin_prices = [\n",
    "    (\"2024-02-13\", 45000.67),\n",
    "    (\"2024-02-14\", 46000.89),\n",
    "    (\"2024-02-15\", 47000.12),\n",
    "    (\"2024-02-16\", 48000.27),\n",
    "    (\"2024-02-17\", 49000.34),\n",
    "]\n",
    "def write_bitcoin_prices_to_file(bitcoin_prices, filename):\n",
    "    with open(filename, 'w') as file:\n",
    "        for date, price in bitcoin_prices:\n",
    "            file.write(f\"{date},{price}\\n\")\n",
    "\n",
    "# Llamada a la función para escribir los datos en el archivo\n",
    "write_bitcoin_prices_to_file(bitcoin_prices, 'bitcoin_prices.txt')"
   ]
  }
 ],
 "metadata": {
  "kernelspec": {
   "display_name": "Python 3",
   "language": "python",
   "name": "python3"
  },
  "language_info": {
   "codemirror_mode": {
    "name": "ipython",
    "version": 3
   },
   "file_extension": ".py",
   "mimetype": "text/x-python",
   "name": "python",
   "nbconvert_exporter": "python",
   "pygments_lexer": "ipython3",
   "version": "3.10.13"
  }
 },
 "nbformat": 4,
 "nbformat_minor": 2
}
