{
 "cells": [
  {
   "cell_type": "code",
   "execution_count": 2,
   "metadata": {},
   "outputs": [
    {
     "name": "stdout",
     "output_type": "stream",
     "text": [
      "\n",
      "1. Guardar tabla de multiplicar de un número.\n",
      "2. Mostrar tabla de multiplicar de un número.\n",
      "3. Mostrar línea de tabla de multiplicar de un número.\n",
      "4. Salir\n",
      "Opción no válida.\n",
      "\n",
      "1. Guardar tabla de multiplicar de un número.\n",
      "2. Mostrar tabla de multiplicar de un número.\n",
      "3. Mostrar línea de tabla de multiplicar de un número.\n",
      "4. Salir\n",
      "Opción no válida.\n",
      "\n",
      "1. Guardar tabla de multiplicar de un número.\n",
      "2. Mostrar tabla de multiplicar de un número.\n",
      "3. Mostrar línea de tabla de multiplicar de un número.\n",
      "4. Salir\n",
      "Saliendo del programa...\n"
     ]
    }
   ],
   "source": [
    "def guardar_tabla_de_multiplicar(numero):\n",
    "    with open(f\"tabla-{numero}.txt\", \"w\") as file:\n",
    "        for i in range(1, 11):\n",
    "            file.write(f\"{numero} x {i} = {numero * i}\\n\")\n",
    "\n",
    "def mostrar_tabla_de_multiplicar(numero):\n",
    "    try:\n",
    "        with open(f\"tabla-{numero}.txt\", \"r\") as file:\n",
    "            print(f\"Tabla de multiplicar del {numero}:\")\n",
    "            print(file.read())\n",
    "    except FileNotFoundError:\n",
    "        print(f\"El archivo tabla-{numero}.txt no existe.\")\n",
    "\n",
    "def mostrar_linea_de_tabla(numero, linea):\n",
    "    try:\n",
    "        with open(f\"tabla-{numero}.txt\", \"r\") as file:\n",
    "            lines = file.readlines()\n",
    "            if linea <= len(lines):\n",
    "                print(f\"Línea {linea} de la tabla de multiplicar del {numero}: {lines[linea - 1]}\")\n",
    "            else:\n",
    "                print(f\"El archivo tabla-{numero}.txt no tiene una línea {linea}.\")\n",
    "    except FileNotFoundError:\n",
    "        print(f\"El archivo tabla-{numero}.txt no existe.\")\n",
    "\n",
    "def main():\n",
    "    while True:\n",
    "        print(\"\\n1. Guardar tabla de multiplicar de un número.\")\n",
    "        print(\"2. Mostrar tabla de multiplicar de un número.\")\n",
    "        print(\"3. Mostrar línea de tabla de multiplicar de un número.\")\n",
    "        print(\"4. Salir\")\n",
    "\n",
    "        opcion = input(\"Ingrese su opción: \")\n",
    "\n",
    "        if opcion == \"1\":\n",
    "            numero = int(input(\"Ingrese un número entre 1 y 10: \"))\n",
    "            if 1 <= numero <= 10:\n",
    "                guardar_tabla_de_multiplicar(numero)\n",
    "                print(f\"Tabla de multiplicar del {numero} guardada exitosamente en tabla-{numero}.txt\")\n",
    "            else:\n",
    "                print(\"Número fuera de rango.\")\n",
    "        elif opcion == \"2\":\n",
    "            numero = int(input(\"Ingrese un número entre 1 y 10: \"))\n",
    "            if 1 <= numero <= 10:\n",
    "                mostrar_tabla_de_multiplicar(numero)\n",
    "            else:\n",
    "                print(\"Número fuera de rango.\")\n",
    "        elif opcion == \"3\":\n",
    "            numero = int(input(\"Ingrese un número entre 1 y 10: \"))\n",
    "            linea = int(input(\"Ingrese el número de línea a mostrar: \"))\n",
    "            if 1 <= numero <= 10 and 1 <= linea <= 10:\n",
    "                mostrar_linea_de_tabla(numero, linea)\n",
    "            else:\n",
    "                print(\"Número o línea fuera de rango.\")\n",
    "        elif opcion == \"4\":\n",
    "            print(\"Saliendo del programa...\")\n",
    "            break\n",
    "        else:\n",
    "            print(\"Opción no válida.\")\n",
    "\n",
    "if __name__ == \"__main__\":\n",
    "    main()"
   ]
  }
 ],
 "metadata": {
  "kernelspec": {
   "display_name": "Python 3",
   "language": "python",
   "name": "python3"
  },
  "language_info": {
   "codemirror_mode": {
    "name": "ipython",
    "version": 3
   },
   "file_extension": ".py",
   "mimetype": "text/x-python",
   "name": "python",
   "nbconvert_exporter": "python",
   "pygments_lexer": "ipython3",
   "version": "3.10.13"
  }
 },
 "nbformat": 4,
 "nbformat_minor": 2
}
