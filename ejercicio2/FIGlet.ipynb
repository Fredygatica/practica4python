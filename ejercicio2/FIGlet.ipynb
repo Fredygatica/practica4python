{
 "cells": [
  {
   "cell_type": "code",
   "execution_count": 9,
   "metadata": {},
   "outputs": [
    {
     "name": "stdout",
     "output_type": "stream",
     "text": [
      "                                       \n",
      " _       _ _                       _ _ \n",
      "| |_ ___| | |___   _ _ _ ___ ___ _| | |\n",
      "|   | -_| | | . |_| | | | . |  _| . | |\n",
      "|_|_|___|_|_|___| |_____|___|_| |___|_|\n",
      "                |_|                    \n",
      "\n"
     ]
    }
   ],
   "source": [
    "from pyfiglet import Figlet\n",
    "import random\n",
    "\n",
    "def main():\n",
    "    # Crear una instancia de Figlet\n",
    "    figlet = Figlet()\n",
    "\n",
    "    # Obtener la lista de fuentes disponibles\n",
    "    available_fonts = figlet.getFonts()\n",
    "\n",
    "    # Solicitar al usuario el nombre de una fuente a utilizar\n",
    "    font_name = input(\"Ingrese el nombre de una fuente (presione Enter para seleccionar aleatoriamente): \")\n",
    "\n",
    "    # Si no se proporciona una fuente, seleccionar una aleatoria\n",
    "    if not font_name:\n",
    "        font_name = random.choice(available_fonts)\n",
    "\n",
    "    # Verificar si la fuente ingresada por el usuario está en la lista de fuentes admitidas\n",
    "    if font_name not in available_fonts:\n",
    "        print(\"La fuente ingresada no es válida. Seleccionando una fuente aleatoria...\")\n",
    "        font_name = random.choice(available_fonts)\n",
    "\n",
    "    # Solicitar al usuario un texto\n",
    "    text = input(\"Ingrese el texto a imprimir: \")\n",
    "\n",
    "    # Establecer la fuente seleccionada\n",
    "    figlet.setFont(font=font_name)\n",
    "\n",
    "    # Imprimir el texto con la fuente seleccionada\n",
    "    print(figlet.renderText(text))\n",
    "\n",
    "if __name__ == \"__main__\":\n",
    "    main()"
   ]
  }
 ],
 "metadata": {
  "kernelspec": {
   "display_name": "Python 3",
   "language": "python",
   "name": "python3"
  },
  "language_info": {
   "codemirror_mode": {
    "name": "ipython",
    "version": 3
   },
   "file_extension": ".py",
   "mimetype": "text/x-python",
   "name": "python",
   "nbconvert_exporter": "python",
   "pygments_lexer": "ipython3",
   "version": "3.10.13"
  }
 },
 "nbformat": 4,
 "nbformat_minor": 2
}
