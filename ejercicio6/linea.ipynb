{
 "cells": [
  {
   "cell_type": "code",
   "execution_count": 6,
   "metadata": {},
   "outputs": [
    {
     "name": "stdout",
     "output_type": "stream",
     "text": [
      "El archivo tiene 2 líneas de código.\n"
     ]
    }
   ],
   "source": [
    "def contar_lineas_codigo(archivo):\n",
    "    try:\n",
    "        with open(archivo, 'r') as file:\n",
    "            lineas_codigo = 0\n",
    "            for linea in file:\n",
    "                # Eliminar espacios en blanco y caracteres especiales al inicio y final de la línea\n",
    "                linea = linea.strip()\n",
    "                # Excluir líneas en blanco y líneas que comienzan con \"#\" (comentarios)\n",
    "                if linea and not linea.startswith('#'):\n",
    "                    lineas_codigo += 1\n",
    "            return lineas_codigo\n",
    "    except FileNotFoundError:\n",
    "        print(\"El archivo no se encuentra.\")\n",
    "    except IOError:\n",
    "        print(\"Error al abrir el archivo.\")\n",
    "    except Exception as e:\n",
    "        print(f\"Ocurrió un error inesperado: {e}\")\n",
    "\n",
    "def main():\n",
    "    archivo = input(\"Ingrese la ruta del archivo .py: \")\n",
    "\n",
    "    # Verificar si el nombre del archivo termina con .py\n",
    "    if archivo.endswith('.py'):\n",
    "        cantidad_lineas = contar_lineas_codigo(archivo)\n",
    "        if cantidad_lineas is not None:\n",
    "            print(f\"El archivo tiene {cantidad_lineas} líneas de código.\")\n",
    "    else:\n",
    "        print(\"El archivo no es un archivo .py válido.\")\n",
    "\n",
    "if __name__ == \"__main__\":\n",
    "    main()"
   ]
  }
 ],
 "metadata": {
  "kernelspec": {
   "display_name": "Python 3",
   "language": "python",
   "name": "python3"
  },
  "language_info": {
   "codemirror_mode": {
    "name": "ipython",
    "version": 3
   },
   "file_extension": ".py",
   "mimetype": "text/x-python",
   "name": "python",
   "nbconvert_exporter": "python",
   "pygments_lexer": "ipython3",
   "version": "3.10.13"
  }
 },
 "nbformat": 4,
 "nbformat_minor": 2
}
